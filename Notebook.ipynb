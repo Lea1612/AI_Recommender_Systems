{
 "cells": [
  {
   "cell_type": "code",
   "execution_count": 1,
   "metadata": {
    "id": "gnU1zZl0myXM"
   },
   "outputs": [],
   "source": [
    "import pandas as pd\n",
    "import seaborn as sns"
   ]
  },
  {
   "cell_type": "code",
   "execution_count": 2,
   "metadata": {
    "id": "4ScHcJxhm2RD"
   },
   "outputs": [],
   "source": [
    "def read_file_csv(file_name):\n",
    "    return pd.read_csv(file_name, low_memory=False, encoding=\"ISO-8859-1\")\n",
    "\n",
    "def weighted_average_rating(counts, m, mean_rating, rating_all_mean):\n",
    "    return (counts / (counts + m)) * mean_rating + (m / (counts + m)) * rating_all_mean\n",
    "\n",
    "def get_top_k_recommendations(df, counts_df, k, columns, m):\n",
    "    return df[counts_df > m].nlargest(k, columns)"
   ]
  },
  {
   "cell_type": "code",
   "execution_count": 3,
   "metadata": {
    "id": "i8zMF7dFm2gU"
   },
   "outputs": [],
   "source": [
    "books_df = read_file_csv('./data/books.csv')\n",
    "books_tags_df = read_file_csv('./data/books_tags.csv')\n",
    "users_df = read_file_csv('./data/users.csv')\n",
    "ratings_df = read_file_csv('./data/ratings.csv')\n",
    "tags_df = read_file_csv('./data/tags.csv')\n",
    "test_df = read_file_csv('./data/test.csv')"
   ]
  },
  {
   "cell_type": "code",
   "execution_count": 4,
   "metadata": {
    "colab": {
     "base_uri": "https://localhost:8080/",
     "height": 200
    },
    "id": "95CjEqkJnBcQ",
    "outputId": "382484ca-989b-4e49-8c56-385971669aba"
   },
   "outputs": [
    {
     "data": {
      "text/html": [
       "<div>\n",
       "<style scoped>\n",
       "    .dataframe tbody tr th:only-of-type {\n",
       "        vertical-align: middle;\n",
       "    }\n",
       "\n",
       "    .dataframe tbody tr th {\n",
       "        vertical-align: top;\n",
       "    }\n",
       "\n",
       "    .dataframe thead th {\n",
       "        text-align: right;\n",
       "    }\n",
       "</style>\n",
       "<table border=\"1\" class=\"dataframe\">\n",
       "  <thead>\n",
       "    <tr style=\"text-align: right;\">\n",
       "      <th></th>\n",
       "      <th>book_id</th>\n",
       "      <th>title</th>\n",
       "      <th>user_id</th>\n",
       "      <th>rating</th>\n",
       "      <th>location</th>\n",
       "      <th>age</th>\n",
       "    </tr>\n",
       "  </thead>\n",
       "  <tbody>\n",
       "    <tr>\n",
       "      <td>0</td>\n",
       "      <td>1</td>\n",
       "      <td>The Hunger Games (The Hunger Games, #1)</td>\n",
       "      <td>3634</td>\n",
       "      <td>4</td>\n",
       "      <td>District of Columbia</td>\n",
       "      <td>92</td>\n",
       "    </tr>\n",
       "    <tr>\n",
       "      <td>1</td>\n",
       "      <td>4</td>\n",
       "      <td>To Kill a Mockingbird</td>\n",
       "      <td>3634</td>\n",
       "      <td>5</td>\n",
       "      <td>District of Columbia</td>\n",
       "      <td>92</td>\n",
       "    </tr>\n",
       "    <tr>\n",
       "      <td>2</td>\n",
       "      <td>5</td>\n",
       "      <td>The Great Gatsby</td>\n",
       "      <td>3634</td>\n",
       "      <td>3</td>\n",
       "      <td>District of Columbia</td>\n",
       "      <td>92</td>\n",
       "    </tr>\n",
       "    <tr>\n",
       "      <td>3</td>\n",
       "      <td>8</td>\n",
       "      <td>The Catcher in the Rye</td>\n",
       "      <td>3634</td>\n",
       "      <td>5</td>\n",
       "      <td>District of Columbia</td>\n",
       "      <td>92</td>\n",
       "    </tr>\n",
       "    <tr>\n",
       "      <td>4</td>\n",
       "      <td>17</td>\n",
       "      <td>Catching Fire (The Hunger Games, #2)</td>\n",
       "      <td>3634</td>\n",
       "      <td>4</td>\n",
       "      <td>District of Columbia</td>\n",
       "      <td>92</td>\n",
       "    </tr>\n",
       "  </tbody>\n",
       "</table>\n",
       "</div>"
      ],
      "text/plain": [
       "   book_id                                    title  user_id  rating  \\\n",
       "0        1  The Hunger Games (The Hunger Games, #1)     3634       4   \n",
       "1        4                    To Kill a Mockingbird     3634       5   \n",
       "2        5                         The Great Gatsby     3634       3   \n",
       "3        8                   The Catcher in the Rye     3634       5   \n",
       "4       17     Catching Fire (The Hunger Games, #2)     3634       4   \n",
       "\n",
       "               location  age  \n",
       "0  District of Columbia   92  \n",
       "1  District of Columbia   92  \n",
       "2  District of Columbia   92  \n",
       "3  District of Columbia   92  \n",
       "4  District of Columbia   92  "
      ]
     },
     "execution_count": 4,
     "metadata": {},
     "output_type": "execute_result"
    }
   ],
   "source": [
    "# b_r_u_df = book_rating_user_df\n",
    "b_r_u_df = pd.merge(books_df[['book_id', 'title']], ratings_df, on='book_id', how='inner')\n",
    "b_r_u_df = pd.merge(b_r_u_df, users_df, on='user_id', how='inner')\n",
    "b_r_u_df.head()"
   ]
  },
  {
   "cell_type": "code",
   "execution_count": 5,
   "metadata": {
    "colab": {
     "base_uri": "https://localhost:8080/",
     "height": 200
    },
    "id": "lv9d4qcSrY_b",
    "outputId": "11e57b82-fb28-4a71-c759-4db8cd5b4e45"
   },
   "outputs": [
    {
     "data": {
      "text/html": [
       "<div>\n",
       "<style scoped>\n",
       "    .dataframe tbody tr th:only-of-type {\n",
       "        vertical-align: middle;\n",
       "    }\n",
       "\n",
       "    .dataframe tbody tr th {\n",
       "        vertical-align: top;\n",
       "    }\n",
       "\n",
       "    .dataframe thead th {\n",
       "        text-align: right;\n",
       "    }\n",
       "</style>\n",
       "<table border=\"1\" class=\"dataframe\">\n",
       "  <thead>\n",
       "    <tr style=\"text-align: right;\">\n",
       "      <th></th>\n",
       "      <th>book_id</th>\n",
       "      <th>title</th>\n",
       "    </tr>\n",
       "  </thead>\n",
       "  <tbody>\n",
       "    <tr>\n",
       "      <td>0</td>\n",
       "      <td>1</td>\n",
       "      <td>The Hunger Games (The Hunger Games, #1)</td>\n",
       "    </tr>\n",
       "    <tr>\n",
       "      <td>1</td>\n",
       "      <td>4</td>\n",
       "      <td>To Kill a Mockingbird</td>\n",
       "    </tr>\n",
       "    <tr>\n",
       "      <td>2</td>\n",
       "      <td>5</td>\n",
       "      <td>The Great Gatsby</td>\n",
       "    </tr>\n",
       "    <tr>\n",
       "      <td>3</td>\n",
       "      <td>8</td>\n",
       "      <td>The Catcher in the Rye</td>\n",
       "    </tr>\n",
       "    <tr>\n",
       "      <td>4</td>\n",
       "      <td>17</td>\n",
       "      <td>Catching Fire (The Hunger Games, #2)</td>\n",
       "    </tr>\n",
       "  </tbody>\n",
       "</table>\n",
       "</div>"
      ],
      "text/plain": [
       "   book_id                                    title\n",
       "0        1  The Hunger Games (The Hunger Games, #1)\n",
       "1        4                    To Kill a Mockingbird\n",
       "2        5                         The Great Gatsby\n",
       "3        8                   The Catcher in the Rye\n",
       "4       17     Catching Fire (The Hunger Games, #2)"
      ]
     },
     "execution_count": 5,
     "metadata": {},
     "output_type": "execute_result"
    }
   ],
   "source": [
    "title_df = b_r_u_df[['book_id', 'title']].drop_duplicates(subset='book_id')\n",
    "title_df.head()"
   ]
  },
  {
   "cell_type": "code",
   "execution_count": 6,
   "metadata": {
    "colab": {
     "base_uri": "https://localhost:8080/",
     "height": 200
    },
    "id": "ye031F6Up2NK",
    "outputId": "b5575430-13a0-4feb-a4ff-b7593abebe97"
   },
   "outputs": [
    {
     "data": {
      "text/html": [
       "<div>\n",
       "<style scoped>\n",
       "    .dataframe tbody tr th:only-of-type {\n",
       "        vertical-align: middle;\n",
       "    }\n",
       "\n",
       "    .dataframe tbody tr th {\n",
       "        vertical-align: top;\n",
       "    }\n",
       "\n",
       "    .dataframe thead th {\n",
       "        text-align: right;\n",
       "    }\n",
       "</style>\n",
       "<table border=\"1\" class=\"dataframe\">\n",
       "  <thead>\n",
       "    <tr style=\"text-align: right;\">\n",
       "      <th></th>\n",
       "      <th>book_id</th>\n",
       "      <th>counts</th>\n",
       "    </tr>\n",
       "  </thead>\n",
       "  <tbody>\n",
       "    <tr>\n",
       "      <td>0</td>\n",
       "      <td>1</td>\n",
       "      <td>1764</td>\n",
       "    </tr>\n",
       "    <tr>\n",
       "      <td>1</td>\n",
       "      <td>4</td>\n",
       "      <td>1747</td>\n",
       "    </tr>\n",
       "    <tr>\n",
       "      <td>2</td>\n",
       "      <td>5</td>\n",
       "      <td>1655</td>\n",
       "    </tr>\n",
       "    <tr>\n",
       "      <td>3</td>\n",
       "      <td>2</td>\n",
       "      <td>1634</td>\n",
       "    </tr>\n",
       "    <tr>\n",
       "      <td>4</td>\n",
       "      <td>26</td>\n",
       "      <td>1597</td>\n",
       "    </tr>\n",
       "  </tbody>\n",
       "</table>\n",
       "</div>"
      ],
      "text/plain": [
       "   book_id  counts\n",
       "0        1    1764\n",
       "1        4    1747\n",
       "2        5    1655\n",
       "3        2    1634\n",
       "4       26    1597"
      ]
     },
     "execution_count": 6,
     "metadata": {},
     "output_type": "execute_result"
    }
   ],
   "source": [
    "nb_voters_data = b_r_u_df['book_id'].value_counts()\n",
    "nb_voters_df = pd.DataFrame(data={'book_id': nb_voters_data.index.tolist(), 'counts': nb_voters_data.values.tolist()})\n",
    "nb_voters_df.head()"
   ]
  },
  {
   "cell_type": "code",
   "execution_count": 7,
   "metadata": {
    "colab": {
     "base_uri": "https://localhost:8080/",
     "height": 200
    },
    "id": "s423EDlpqz86",
    "outputId": "cfa380aa-d86b-4f32-8da2-d97f57703ac1"
   },
   "outputs": [
    {
     "data": {
      "text/html": [
       "<div>\n",
       "<style scoped>\n",
       "    .dataframe tbody tr th:only-of-type {\n",
       "        vertical-align: middle;\n",
       "    }\n",
       "\n",
       "    .dataframe tbody tr th {\n",
       "        vertical-align: top;\n",
       "    }\n",
       "\n",
       "    .dataframe thead th {\n",
       "        text-align: right;\n",
       "    }\n",
       "</style>\n",
       "<table border=\"1\" class=\"dataframe\">\n",
       "  <thead>\n",
       "    <tr style=\"text-align: right;\">\n",
       "      <th></th>\n",
       "      <th>book_id</th>\n",
       "      <th>mean_rating</th>\n",
       "    </tr>\n",
       "  </thead>\n",
       "  <tbody>\n",
       "    <tr>\n",
       "      <td>0</td>\n",
       "      <td>1</td>\n",
       "      <td>4.238662</td>\n",
       "    </tr>\n",
       "    <tr>\n",
       "      <td>1</td>\n",
       "      <td>2</td>\n",
       "      <td>4.058140</td>\n",
       "    </tr>\n",
       "    <tr>\n",
       "      <td>2</td>\n",
       "      <td>3</td>\n",
       "      <td>3.376528</td>\n",
       "    </tr>\n",
       "    <tr>\n",
       "      <td>3</td>\n",
       "      <td>4</td>\n",
       "      <td>4.364625</td>\n",
       "    </tr>\n",
       "    <tr>\n",
       "      <td>4</td>\n",
       "      <td>5</td>\n",
       "      <td>3.748036</td>\n",
       "    </tr>\n",
       "  </tbody>\n",
       "</table>\n",
       "</div>"
      ],
      "text/plain": [
       "   book_id  mean_rating\n",
       "0        1     4.238662\n",
       "1        2     4.058140\n",
       "2        3     3.376528\n",
       "3        4     4.364625\n",
       "4        5     3.748036"
      ]
     },
     "execution_count": 7,
     "metadata": {},
     "output_type": "execute_result"
    }
   ],
   "source": [
    "rating_mean_data = b_r_u_df.groupby(['book_id'])['rating'].mean()\n",
    "rating_mean_df = pd.DataFrame(data={'book_id': rating_mean_data.index.tolist(), 'mean_rating': rating_mean_data.values.tolist()})\n",
    "rating_mean_df.head()"
   ]
  },
  {
   "cell_type": "code",
   "execution_count": 8,
   "metadata": {
    "colab": {
     "base_uri": "https://localhost:8080/"
    },
    "id": "XaV0k5KdnIXx",
    "outputId": "283c66e5-57f1-44a1-b05d-7d5cf199c333"
   },
   "outputs": [
    {
     "name": "stdout",
     "output_type": "stream",
     "text": [
      "202.0\n"
     ]
    }
   ],
   "source": [
    "# Fix the number of minimum readers to get into the list - m\n",
    "m = nb_voters_data.quantile(0.90)\n",
    "print(m)"
   ]
  },
  {
   "cell_type": "code",
   "execution_count": 9,
   "metadata": {
    "colab": {
     "base_uri": "https://localhost:8080/"
    },
    "id": "04E06bEFnDKA",
    "outputId": "f8560abe-86b2-4acf-a80f-154d0632a95e"
   },
   "outputs": [
    {
     "name": "stdout",
     "output_type": "stream",
     "text": [
      "3.779077570255898\n"
     ]
    }
   ],
   "source": [
    "# Rating mean (all of the books) - C.\n",
    "rating_all_mean = b_r_u_df['rating'].mean()\n",
    "print(rating_all_mean)"
   ]
  },
  {
   "cell_type": "code",
   "execution_count": 10,
   "metadata": {
    "colab": {
     "base_uri": "https://localhost:8080/",
     "height": 200
    },
    "id": "zrv8xAgws1sH",
    "outputId": "57b79f1b-adb3-4880-ad48-0ff5eeec08ee"
   },
   "outputs": [
    {
     "data": {
      "text/html": [
       "<div>\n",
       "<style scoped>\n",
       "    .dataframe tbody tr th:only-of-type {\n",
       "        vertical-align: middle;\n",
       "    }\n",
       "\n",
       "    .dataframe tbody tr th {\n",
       "        vertical-align: top;\n",
       "    }\n",
       "\n",
       "    .dataframe thead th {\n",
       "        text-align: right;\n",
       "    }\n",
       "</style>\n",
       "<table border=\"1\" class=\"dataframe\">\n",
       "  <thead>\n",
       "    <tr style=\"text-align: right;\">\n",
       "      <th></th>\n",
       "      <th>book_id</th>\n",
       "      <th>title</th>\n",
       "      <th>counts</th>\n",
       "      <th>mean_rating</th>\n",
       "    </tr>\n",
       "  </thead>\n",
       "  <tbody>\n",
       "    <tr>\n",
       "      <td>0</td>\n",
       "      <td>1</td>\n",
       "      <td>The Hunger Games (The Hunger Games, #1)</td>\n",
       "      <td>1764</td>\n",
       "      <td>4.238662</td>\n",
       "    </tr>\n",
       "    <tr>\n",
       "      <td>1</td>\n",
       "      <td>4</td>\n",
       "      <td>To Kill a Mockingbird</td>\n",
       "      <td>1747</td>\n",
       "      <td>4.364625</td>\n",
       "    </tr>\n",
       "    <tr>\n",
       "      <td>2</td>\n",
       "      <td>5</td>\n",
       "      <td>The Great Gatsby</td>\n",
       "      <td>1655</td>\n",
       "      <td>3.748036</td>\n",
       "    </tr>\n",
       "    <tr>\n",
       "      <td>3</td>\n",
       "      <td>8</td>\n",
       "      <td>The Catcher in the Rye</td>\n",
       "      <td>1535</td>\n",
       "      <td>3.768730</td>\n",
       "    </tr>\n",
       "    <tr>\n",
       "      <td>4</td>\n",
       "      <td>17</td>\n",
       "      <td>Catching Fire (The Hunger Games, #2)</td>\n",
       "      <td>1494</td>\n",
       "      <td>4.048193</td>\n",
       "    </tr>\n",
       "  </tbody>\n",
       "</table>\n",
       "</div>"
      ],
      "text/plain": [
       "   book_id                                    title  counts  mean_rating\n",
       "0        1  The Hunger Games (The Hunger Games, #1)    1764     4.238662\n",
       "1        4                    To Kill a Mockingbird    1747     4.364625\n",
       "2        5                         The Great Gatsby    1655     3.748036\n",
       "3        8                   The Catcher in the Rye    1535     3.768730\n",
       "4       17     Catching Fire (The Hunger Games, #2)    1494     4.048193"
      ]
     },
     "execution_count": 10,
     "metadata": {},
     "output_type": "execute_result"
    }
   ],
   "source": [
    "df = pd.merge(title_df, nb_voters_df, on='book_id', how='inner')\n",
    "df = pd.merge(df, rating_mean_df, on='book_id', how='inner')\n",
    "df.head()"
   ]
  },
  {
   "cell_type": "code",
   "execution_count": 11,
   "metadata": {
    "colab": {
     "base_uri": "https://localhost:8080/",
     "height": 200
    },
    "id": "Gf7q0MnOs4hR",
    "outputId": "8dd8608f-4d3e-4932-a1d7-754c80cff75f"
   },
   "outputs": [
    {
     "data": {
      "text/html": [
       "<div>\n",
       "<style scoped>\n",
       "    .dataframe tbody tr th:only-of-type {\n",
       "        vertical-align: middle;\n",
       "    }\n",
       "\n",
       "    .dataframe tbody tr th {\n",
       "        vertical-align: top;\n",
       "    }\n",
       "\n",
       "    .dataframe thead th {\n",
       "        text-align: right;\n",
       "    }\n",
       "</style>\n",
       "<table border=\"1\" class=\"dataframe\">\n",
       "  <thead>\n",
       "    <tr style=\"text-align: right;\">\n",
       "      <th></th>\n",
       "      <th>book_id</th>\n",
       "      <th>title</th>\n",
       "      <th>counts</th>\n",
       "      <th>mean_rating</th>\n",
       "      <th>weighted_average_rating</th>\n",
       "    </tr>\n",
       "  </thead>\n",
       "  <tbody>\n",
       "    <tr>\n",
       "      <td>0</td>\n",
       "      <td>1</td>\n",
       "      <td>The Hunger Games (The Hunger Games, #1)</td>\n",
       "      <td>1764</td>\n",
       "      <td>4.238662</td>\n",
       "      <td>4.191441</td>\n",
       "    </tr>\n",
       "    <tr>\n",
       "      <td>1</td>\n",
       "      <td>4</td>\n",
       "      <td>To Kill a Mockingbird</td>\n",
       "      <td>1747</td>\n",
       "      <td>4.364625</td>\n",
       "      <td>4.303937</td>\n",
       "    </tr>\n",
       "    <tr>\n",
       "      <td>2</td>\n",
       "      <td>5</td>\n",
       "      <td>The Great Gatsby</td>\n",
       "      <td>1655</td>\n",
       "      <td>3.748036</td>\n",
       "      <td>3.751413</td>\n",
       "    </tr>\n",
       "    <tr>\n",
       "      <td>3</td>\n",
       "      <td>8</td>\n",
       "      <td>The Catcher in the Rye</td>\n",
       "      <td>1535</td>\n",
       "      <td>3.768730</td>\n",
       "      <td>3.769933</td>\n",
       "    </tr>\n",
       "    <tr>\n",
       "      <td>4</td>\n",
       "      <td>17</td>\n",
       "      <td>Catching Fire (The Hunger Games, #2)</td>\n",
       "      <td>1494</td>\n",
       "      <td>4.048193</td>\n",
       "      <td>4.016140</td>\n",
       "    </tr>\n",
       "  </tbody>\n",
       "</table>\n",
       "</div>"
      ],
      "text/plain": [
       "   book_id                                    title  counts  mean_rating  \\\n",
       "0        1  The Hunger Games (The Hunger Games, #1)    1764     4.238662   \n",
       "1        4                    To Kill a Mockingbird    1747     4.364625   \n",
       "2        5                         The Great Gatsby    1655     3.748036   \n",
       "3        8                   The Catcher in the Rye    1535     3.768730   \n",
       "4       17     Catching Fire (The Hunger Games, #2)    1494     4.048193   \n",
       "\n",
       "   weighted_average_rating  \n",
       "0                 4.191441  \n",
       "1                 4.303937  \n",
       "2                 3.751413  \n",
       "3                 3.769933  \n",
       "4                 4.016140  "
      ]
     },
     "execution_count": 11,
     "metadata": {},
     "output_type": "execute_result"
    }
   ],
   "source": [
    "df['weighted_average_rating'] = weighted_average_rating(df['counts'], m, df['mean_rating'], rating_all_mean)\n",
    "df.head()"
   ]
  },
  {
   "cell_type": "code",
   "execution_count": 12,
   "metadata": {},
   "outputs": [
    {
     "data": {
      "text/html": [
       "<div>\n",
       "<style scoped>\n",
       "    .dataframe tbody tr th:only-of-type {\n",
       "        vertical-align: middle;\n",
       "    }\n",
       "\n",
       "    .dataframe tbody tr th {\n",
       "        vertical-align: top;\n",
       "    }\n",
       "\n",
       "    .dataframe thead th {\n",
       "        text-align: right;\n",
       "    }\n",
       "</style>\n",
       "<table border=\"1\" class=\"dataframe\">\n",
       "  <thead>\n",
       "    <tr style=\"text-align: right;\">\n",
       "      <th></th>\n",
       "      <th>book_id</th>\n",
       "      <th>title</th>\n",
       "      <th>counts</th>\n",
       "      <th>mean_rating</th>\n",
       "      <th>weighted_average_rating</th>\n",
       "    </tr>\n",
       "  </thead>\n",
       "  <tbody>\n",
       "    <tr>\n",
       "      <td>504</td>\n",
       "      <td>25</td>\n",
       "      <td>Harry Potter and the Deathly Hallows (Harry Po...</td>\n",
       "      <td>1444</td>\n",
       "      <td>4.421745</td>\n",
       "      <td>4.342876</td>\n",
       "    </tr>\n",
       "    <tr>\n",
       "      <td>1</td>\n",
       "      <td>4</td>\n",
       "      <td>To Kill a Mockingbird</td>\n",
       "      <td>1747</td>\n",
       "      <td>4.364625</td>\n",
       "      <td>4.303937</td>\n",
       "    </tr>\n",
       "    <tr>\n",
       "      <td>506</td>\n",
       "      <td>102</td>\n",
       "      <td>Where the Wild Things Are</td>\n",
       "      <td>612</td>\n",
       "      <td>4.449346</td>\n",
       "      <td>4.283014</td>\n",
       "    </tr>\n",
       "    <tr>\n",
       "      <td>370</td>\n",
       "      <td>85</td>\n",
       "      <td>The Giving Tree</td>\n",
       "      <td>815</td>\n",
       "      <td>4.364417</td>\n",
       "      <td>4.248155</td>\n",
       "    </tr>\n",
       "    <tr>\n",
       "      <td>364</td>\n",
       "      <td>50</td>\n",
       "      <td>Where the Sidewalk Ends</td>\n",
       "      <td>976</td>\n",
       "      <td>4.343238</td>\n",
       "      <td>4.246497</td>\n",
       "    </tr>\n",
       "  </tbody>\n",
       "</table>\n",
       "</div>"
      ],
      "text/plain": [
       "     book_id                                              title  counts  \\\n",
       "504       25  Harry Potter and the Deathly Hallows (Harry Po...    1444   \n",
       "1          4                              To Kill a Mockingbird    1747   \n",
       "506      102                          Where the Wild Things Are     612   \n",
       "370       85                                    The Giving Tree     815   \n",
       "364       50                            Where the Sidewalk Ends     976   \n",
       "\n",
       "     mean_rating  weighted_average_rating  \n",
       "504     4.421745                 4.342876  \n",
       "1       4.364625                 4.303937  \n",
       "506     4.449346                 4.283014  \n",
       "370     4.364417                 4.248155  \n",
       "364     4.343238                 4.246497  "
      ]
     },
     "execution_count": 12,
     "metadata": {},
     "output_type": "execute_result"
    }
   ],
   "source": [
    "result = get_top_k_recommendations(df, df['counts'], 10, ['weighted_average_rating'], m)\n",
    "result.head()"
   ]
  },
  {
   "cell_type": "markdown",
   "metadata": {},
   "source": [
    "# get_simply_recommendation"
   ]
  },
  {
   "cell_type": "code",
   "execution_count": 13,
   "metadata": {},
   "outputs": [],
   "source": [
    "def get_simply_recommendation(k):\n",
    "    pass"
   ]
  },
  {
   "cell_type": "markdown",
   "metadata": {},
   "source": [
    "# get_simply_place_recommendation"
   ]
  },
  {
   "cell_type": "code",
   "execution_count": 14,
   "metadata": {},
   "outputs": [],
   "source": [
    "def get_simply_place_recommendation(books_df, title_df, ratings_df, users_df, place, k):\n",
    "    # b_r_u_df = book_rating_user_df\n",
    "    b_r_u_df = pd.merge(books_df[['book_id', 'title']], ratings_df, on='book_id', how='inner')\n",
    "    b_r_u_df = pd.merge(b_r_u_df, users_df, on='user_id', how='inner')\n",
    "\n",
    "    ratings_state_df = b_r_u_df[b_r_u_df['location'] == place]\n",
    "\n",
    "    nb_voters_data = ratings_state_df['book_id'].value_counts()\n",
    "    nb_voters_df = pd.DataFrame(data={'book_id': nb_voters_data.index.tolist(), 'counts': nb_voters_data.values.tolist()})\n",
    "\n",
    "    rating_mean_data = ratings_state_df.groupby(['book_id'])['rating'].mean()\n",
    "    rating_mean_df = pd.DataFrame(data={'book_id': rating_mean_data.index.tolist(), 'mean_rating': rating_mean_data.values.tolist()})\n",
    "\n",
    "    m = nb_voters_data.quantile(0.90)\n",
    "\n",
    "    rating_all_mean = ratings_state_df['rating'].mean()\n",
    "\n",
    "    df = pd.merge(title_df, nb_voters_df, on='book_id', how='inner')\n",
    "    df = pd.merge(df, rating_mean_df, on='book_id', how='inner')\n",
    "\n",
    "    df['weighted_average_rating'] = weighted_average_rating(df['counts'], m, df['mean_rating'], rating_all_mean)\n",
    "    return get_top_k_recommendations(df, df['counts'], k, ['weighted_average_rating'], m)"
   ]
  },
  {
   "cell_type": "code",
   "execution_count": 15,
   "metadata": {},
   "outputs": [
    {
     "data": {
      "text/html": [
       "<div>\n",
       "<style scoped>\n",
       "    .dataframe tbody tr th:only-of-type {\n",
       "        vertical-align: middle;\n",
       "    }\n",
       "\n",
       "    .dataframe tbody tr th {\n",
       "        vertical-align: top;\n",
       "    }\n",
       "\n",
       "    .dataframe thead th {\n",
       "        text-align: right;\n",
       "    }\n",
       "</style>\n",
       "<table border=\"1\" class=\"dataframe\">\n",
       "  <thead>\n",
       "    <tr style=\"text-align: right;\">\n",
       "      <th></th>\n",
       "      <th>book_id</th>\n",
       "      <th>title</th>\n",
       "      <th>counts</th>\n",
       "      <th>mean_rating</th>\n",
       "      <th>weighted_average_rating</th>\n",
       "    </tr>\n",
       "  </thead>\n",
       "  <tbody>\n",
       "    <tr>\n",
       "      <td>310</td>\n",
       "      <td>126</td>\n",
       "      <td>Dune (Dune Chronicles #1)</td>\n",
       "      <td>12</td>\n",
       "      <td>4.750000</td>\n",
       "      <td>4.379659</td>\n",
       "    </tr>\n",
       "    <tr>\n",
       "      <td>602</td>\n",
       "      <td>143</td>\n",
       "      <td>All the Light We Cannot See</td>\n",
       "      <td>15</td>\n",
       "      <td>4.600000</td>\n",
       "      <td>4.327888</td>\n",
       "    </tr>\n",
       "    <tr>\n",
       "      <td>356</td>\n",
       "      <td>144</td>\n",
       "      <td>Unbroken: A World War II Story of Survival, Re...</td>\n",
       "      <td>8</td>\n",
       "      <td>4.750000</td>\n",
       "      <td>4.280902</td>\n",
       "    </tr>\n",
       "    <tr>\n",
       "      <td>190</td>\n",
       "      <td>24</td>\n",
       "      <td>Harry Potter and the Goblet of Fire (Harry Pot...</td>\n",
       "      <td>25</td>\n",
       "      <td>4.400000</td>\n",
       "      <td>4.256673</td>\n",
       "    </tr>\n",
       "    <tr>\n",
       "      <td>424</td>\n",
       "      <td>102</td>\n",
       "      <td>Where the Wild Things Are</td>\n",
       "      <td>15</td>\n",
       "      <td>4.466667</td>\n",
       "      <td>4.236978</td>\n",
       "    </tr>\n",
       "  </tbody>\n",
       "</table>\n",
       "</div>"
      ],
      "text/plain": [
       "     book_id                                              title  counts  \\\n",
       "310      126                          Dune (Dune Chronicles #1)      12   \n",
       "602      143                        All the Light We Cannot See      15   \n",
       "356      144  Unbroken: A World War II Story of Survival, Re...       8   \n",
       "190       24  Harry Potter and the Goblet of Fire (Harry Pot...      25   \n",
       "424      102                          Where the Wild Things Are      15   \n",
       "\n",
       "     mean_rating  weighted_average_rating  \n",
       "310     4.750000                 4.379659  \n",
       "602     4.600000                 4.327888  \n",
       "356     4.750000                 4.280902  \n",
       "190     4.400000                 4.256673  \n",
       "424     4.466667                 4.236978  "
      ]
     },
     "execution_count": 15,
     "metadata": {},
     "output_type": "execute_result"
    }
   ],
   "source": [
    "place_recommendation_df = get_simply_place_recommendation(books_df, title_df, ratings_df, users_df, 'Ohio', 10)\n",
    "place_recommendation_df.head()"
   ]
  },
  {
   "cell_type": "markdown",
   "metadata": {},
   "source": [
    "# get_simply_age_recommendation"
   ]
  },
  {
   "cell_type": "code",
   "execution_count": 16,
   "metadata": {},
   "outputs": [],
   "source": [
    "def get_simply_age_recommendation(books_df, title_df, ratings_df, users_df, age, k):\n",
    "    # b_r_u_df = book_rating_user_df\n",
    "    b_r_u_df = pd.merge(books_df[['book_id', 'title']], ratings_df, on='book_id', how='inner')\n",
    "    b_r_u_df = pd.merge(b_r_u_df, users_df, on='user_id', how='inner')\n",
    "\n",
    "    ratings_age_df = b_r_u_df[b_r_u_df['age'] == age]\n",
    "\n",
    "    nb_voters_data = ratings_age_df['book_id'].value_counts()\n",
    "    nb_voters_df = pd.DataFrame(data={'book_id': nb_voters_data.index.tolist(), 'counts': nb_voters_data.values.tolist()})\n",
    "\n",
    "    rating_mean_data = ratings_age_df.groupby(['book_id'])['rating'].mean()\n",
    "    rating_mean_df = pd.DataFrame(data={'book_id': rating_mean_data.index.tolist(), 'mean_rating': rating_mean_data.values.tolist()})\n",
    "\n",
    "    m = nb_voters_data.quantile(0.90)\n",
    "\n",
    "    rating_all_mean = ratings_age_df['rating'].mean()\n",
    "\n",
    "    df = pd.merge(title_df, nb_voters_df, on='book_id', how='inner')\n",
    "    df = pd.merge(df, rating_mean_df, on='book_id', how='inner')\n",
    "\n",
    "    df['weighted_average_rating'] = weighted_average_rating(df['counts'], m, df['mean_rating'], rating_all_mean)\n",
    "    return get_top_k_recommendations(df, df['counts'], 10, ['weighted_average_rating'], m)"
   ]
  },
  {
   "cell_type": "code",
   "execution_count": 17,
   "metadata": {},
   "outputs": [
    {
     "data": {
      "text/html": [
       "<div>\n",
       "<style scoped>\n",
       "    .dataframe tbody tr th:only-of-type {\n",
       "        vertical-align: middle;\n",
       "    }\n",
       "\n",
       "    .dataframe tbody tr th {\n",
       "        vertical-align: top;\n",
       "    }\n",
       "\n",
       "    .dataframe thead th {\n",
       "        text-align: right;\n",
       "    }\n",
       "</style>\n",
       "<table border=\"1\" class=\"dataframe\">\n",
       "  <thead>\n",
       "    <tr style=\"text-align: right;\">\n",
       "      <th></th>\n",
       "      <th>book_id</th>\n",
       "      <th>title</th>\n",
       "      <th>counts</th>\n",
       "      <th>mean_rating</th>\n",
       "      <th>weighted_average_rating</th>\n",
       "    </tr>\n",
       "  </thead>\n",
       "  <tbody>\n",
       "    <tr>\n",
       "      <td>327</td>\n",
       "      <td>70</td>\n",
       "      <td>Ender's Game (Ender's Saga, #1)</td>\n",
       "      <td>6</td>\n",
       "      <td>5.000000</td>\n",
       "      <td>4.428010</td>\n",
       "    </tr>\n",
       "    <tr>\n",
       "      <td>1</td>\n",
       "      <td>4</td>\n",
       "      <td>To Kill a Mockingbird</td>\n",
       "      <td>14</td>\n",
       "      <td>4.642857</td>\n",
       "      <td>4.405690</td>\n",
       "    </tr>\n",
       "    <tr>\n",
       "      <td>85</td>\n",
       "      <td>113</td>\n",
       "      <td>Catch-22</td>\n",
       "      <td>8</td>\n",
       "      <td>4.750000</td>\n",
       "      <td>4.362162</td>\n",
       "    </tr>\n",
       "    <tr>\n",
       "      <td>339</td>\n",
       "      <td>250</td>\n",
       "      <td>Wonder</td>\n",
       "      <td>7</td>\n",
       "      <td>4.714286</td>\n",
       "      <td>4.309009</td>\n",
       "    </tr>\n",
       "    <tr>\n",
       "      <td>8</td>\n",
       "      <td>31</td>\n",
       "      <td>The Help</td>\n",
       "      <td>13</td>\n",
       "      <td>4.461538</td>\n",
       "      <td>4.261562</td>\n",
       "    </tr>\n",
       "  </tbody>\n",
       "</table>\n",
       "</div>"
      ],
      "text/plain": [
       "     book_id                            title  counts  mean_rating  \\\n",
       "327       70  Ender's Game (Ender's Saga, #1)       6     5.000000   \n",
       "1          4            To Kill a Mockingbird      14     4.642857   \n",
       "85       113                         Catch-22       8     4.750000   \n",
       "339      250                           Wonder       7     4.714286   \n",
       "8         31                         The Help      13     4.461538   \n",
       "\n",
       "     weighted_average_rating  \n",
       "327                 4.428010  \n",
       "1                   4.405690  \n",
       "85                  4.362162  \n",
       "339                 4.309009  \n",
       "8                   4.261562  "
      ]
     },
     "execution_count": 17,
     "metadata": {},
     "output_type": "execute_result"
    }
   ],
   "source": [
    "age_recommendation_df = get_simply_age_recommendation(books_df, title_df, ratings_df, users_df, 20, 10)\n",
    "age_recommendation_df.head()"
   ]
  }
 ],
 "metadata": {
  "colab": {
   "collapsed_sections": [],
   "name": "Untitled0.ipynb",
   "provenance": []
  },
  "kernelspec": {
   "display_name": "Python 3",
   "language": "python",
   "name": "python3"
  },
  "language_info": {
   "codemirror_mode": {
    "name": "ipython",
    "version": 3
   },
   "file_extension": ".py",
   "mimetype": "text/x-python",
   "name": "python",
   "nbconvert_exporter": "python",
   "pygments_lexer": "ipython3",
   "version": "3.7.4"
  }
 },
 "nbformat": 4,
 "nbformat_minor": 1
}
