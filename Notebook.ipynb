{
 "cells": [
  {
   "cell_type": "code",
   "execution_count": 20,
   "metadata": {
    "id": "gnU1zZl0myXM"
   },
   "outputs": [],
   "source": [
    "import pandas as pd\n",
    "import seaborn as sns"
   ]
  },
  {
   "cell_type": "code",
   "execution_count": 21,
   "metadata": {
    "id": "4ScHcJxhm2RD"
   },
   "outputs": [],
   "source": [
    "def read_file_csv(file_name):\n",
    "    return pd.read_csv(file_name, low_memory=False, encoding=\"ISO-8859-1\")\n",
    "\n",
    "def weighted_average_rating(counts, m, mean_rating, rating_all_mean):\n",
    "    return (counts / (counts + m)) * mean_rating + (m / (counts + m)) * rating_all_mean\n",
    "\n",
    "def get_simply_recommendation(data_frame, counts, k, final_rating, m):\n",
    "    return data_frame[counts > m].nlargest(k, final_rating)"
   ]
  },
  {
   "cell_type": "code",
   "execution_count": 22,
   "metadata": {
    "id": "i8zMF7dFm2gU"
   },
   "outputs": [],
   "source": [
    "books_df = read_file_csv(\"data/books.csv\")\n",
    "users_df = read_file_csv(\"data/users.csv\")\n",
    "ratings_df = read_file_csv(\"data/ratings.csv\")"
   ]
  },
  {
   "cell_type": "code",
   "execution_count": 23,
   "metadata": {
    "colab": {
     "base_uri": "https://localhost:8080/",
     "height": 200
    },
    "id": "95CjEqkJnBcQ",
    "outputId": "382484ca-989b-4e49-8c56-385971669aba"
   },
   "outputs": [
    {
     "data": {
      "text/html": [
       "<div>\n",
       "<style scoped>\n",
       "    .dataframe tbody tr th:only-of-type {\n",
       "        vertical-align: middle;\n",
       "    }\n",
       "\n",
       "    .dataframe tbody tr th {\n",
       "        vertical-align: top;\n",
       "    }\n",
       "\n",
       "    .dataframe thead th {\n",
       "        text-align: right;\n",
       "    }\n",
       "</style>\n",
       "<table border=\"1\" class=\"dataframe\">\n",
       "  <thead>\n",
       "    <tr style=\"text-align: right;\">\n",
       "      <th></th>\n",
       "      <th>book_id</th>\n",
       "      <th>title</th>\n",
       "      <th>user_id</th>\n",
       "      <th>rating</th>\n",
       "      <th>location</th>\n",
       "      <th>age</th>\n",
       "    </tr>\n",
       "  </thead>\n",
       "  <tbody>\n",
       "    <tr>\n",
       "      <td>0</td>\n",
       "      <td>1</td>\n",
       "      <td>The Hunger Games (The Hunger Games, #1)</td>\n",
       "      <td>3634</td>\n",
       "      <td>4</td>\n",
       "      <td>District of Columbia</td>\n",
       "      <td>92</td>\n",
       "    </tr>\n",
       "    <tr>\n",
       "      <td>1</td>\n",
       "      <td>4</td>\n",
       "      <td>To Kill a Mockingbird</td>\n",
       "      <td>3634</td>\n",
       "      <td>5</td>\n",
       "      <td>District of Columbia</td>\n",
       "      <td>92</td>\n",
       "    </tr>\n",
       "    <tr>\n",
       "      <td>2</td>\n",
       "      <td>5</td>\n",
       "      <td>The Great Gatsby</td>\n",
       "      <td>3634</td>\n",
       "      <td>3</td>\n",
       "      <td>District of Columbia</td>\n",
       "      <td>92</td>\n",
       "    </tr>\n",
       "    <tr>\n",
       "      <td>3</td>\n",
       "      <td>8</td>\n",
       "      <td>The Catcher in the Rye</td>\n",
       "      <td>3634</td>\n",
       "      <td>5</td>\n",
       "      <td>District of Columbia</td>\n",
       "      <td>92</td>\n",
       "    </tr>\n",
       "    <tr>\n",
       "      <td>4</td>\n",
       "      <td>17</td>\n",
       "      <td>Catching Fire (The Hunger Games, #2)</td>\n",
       "      <td>3634</td>\n",
       "      <td>4</td>\n",
       "      <td>District of Columbia</td>\n",
       "      <td>92</td>\n",
       "    </tr>\n",
       "  </tbody>\n",
       "</table>\n",
       "</div>"
      ],
      "text/plain": [
       "   book_id                                    title  user_id  rating  \\\n",
       "0        1  The Hunger Games (The Hunger Games, #1)     3634       4   \n",
       "1        4                    To Kill a Mockingbird     3634       5   \n",
       "2        5                         The Great Gatsby     3634       3   \n",
       "3        8                   The Catcher in the Rye     3634       5   \n",
       "4       17     Catching Fire (The Hunger Games, #2)     3634       4   \n",
       "\n",
       "               location  age  \n",
       "0  District of Columbia   92  \n",
       "1  District of Columbia   92  \n",
       "2  District of Columbia   92  \n",
       "3  District of Columbia   92  \n",
       "4  District of Columbia   92  "
      ]
     },
     "execution_count": 23,
     "metadata": {},
     "output_type": "execute_result"
    }
   ],
   "source": [
    "ratings_data = pd.merge(books_df[['book_id', 'title']], ratings_df, on='book_id', how='inner')\n",
    "ratings_data = pd.merge(ratings_data, users_df, on=['user_id'], how='inner')\n",
    "ratings_data.head()"
   ]
  },
  {
   "cell_type": "code",
   "execution_count": 24,
   "metadata": {
    "colab": {
     "base_uri": "https://localhost:8080/",
     "height": 200
    },
    "id": "lv9d4qcSrY_b",
    "outputId": "11e57b82-fb28-4a71-c759-4db8cd5b4e45"
   },
   "outputs": [
    {
     "data": {
      "text/html": [
       "<div>\n",
       "<style scoped>\n",
       "    .dataframe tbody tr th:only-of-type {\n",
       "        vertical-align: middle;\n",
       "    }\n",
       "\n",
       "    .dataframe tbody tr th {\n",
       "        vertical-align: top;\n",
       "    }\n",
       "\n",
       "    .dataframe thead th {\n",
       "        text-align: right;\n",
       "    }\n",
       "</style>\n",
       "<table border=\"1\" class=\"dataframe\">\n",
       "  <thead>\n",
       "    <tr style=\"text-align: right;\">\n",
       "      <th></th>\n",
       "      <th>book_id</th>\n",
       "      <th>title</th>\n",
       "    </tr>\n",
       "  </thead>\n",
       "  <tbody>\n",
       "    <tr>\n",
       "      <td>0</td>\n",
       "      <td>1</td>\n",
       "      <td>The Hunger Games (The Hunger Games, #1)</td>\n",
       "    </tr>\n",
       "    <tr>\n",
       "      <td>1</td>\n",
       "      <td>4</td>\n",
       "      <td>To Kill a Mockingbird</td>\n",
       "    </tr>\n",
       "    <tr>\n",
       "      <td>2</td>\n",
       "      <td>5</td>\n",
       "      <td>The Great Gatsby</td>\n",
       "    </tr>\n",
       "    <tr>\n",
       "      <td>3</td>\n",
       "      <td>8</td>\n",
       "      <td>The Catcher in the Rye</td>\n",
       "    </tr>\n",
       "    <tr>\n",
       "      <td>4</td>\n",
       "      <td>17</td>\n",
       "      <td>Catching Fire (The Hunger Games, #2)</td>\n",
       "    </tr>\n",
       "  </tbody>\n",
       "</table>\n",
       "</div>"
      ],
      "text/plain": [
       "   book_id                                    title\n",
       "0        1  The Hunger Games (The Hunger Games, #1)\n",
       "1        4                    To Kill a Mockingbird\n",
       "2        5                         The Great Gatsby\n",
       "3        8                   The Catcher in the Rye\n",
       "4       17     Catching Fire (The Hunger Games, #2)"
      ]
     },
     "execution_count": 24,
     "metadata": {},
     "output_type": "execute_result"
    }
   ],
   "source": [
    "title_df = ratings_data[['book_id', 'title']].drop_duplicates(subset='book_id')\n",
    "title_df.head()"
   ]
  },
  {
   "cell_type": "code",
   "execution_count": 25,
   "metadata": {
    "colab": {
     "base_uri": "https://localhost:8080/",
     "height": 200
    },
    "id": "ye031F6Up2NK",
    "outputId": "b5575430-13a0-4feb-a4ff-b7593abebe97"
   },
   "outputs": [
    {
     "data": {
      "text/html": [
       "<div>\n",
       "<style scoped>\n",
       "    .dataframe tbody tr th:only-of-type {\n",
       "        vertical-align: middle;\n",
       "    }\n",
       "\n",
       "    .dataframe tbody tr th {\n",
       "        vertical-align: top;\n",
       "    }\n",
       "\n",
       "    .dataframe thead th {\n",
       "        text-align: right;\n",
       "    }\n",
       "</style>\n",
       "<table border=\"1\" class=\"dataframe\">\n",
       "  <thead>\n",
       "    <tr style=\"text-align: right;\">\n",
       "      <th></th>\n",
       "      <th>book_id</th>\n",
       "      <th>counts</th>\n",
       "    </tr>\n",
       "  </thead>\n",
       "  <tbody>\n",
       "    <tr>\n",
       "      <td>0</td>\n",
       "      <td>1</td>\n",
       "      <td>1764</td>\n",
       "    </tr>\n",
       "    <tr>\n",
       "      <td>1</td>\n",
       "      <td>4</td>\n",
       "      <td>1747</td>\n",
       "    </tr>\n",
       "    <tr>\n",
       "      <td>2</td>\n",
       "      <td>5</td>\n",
       "      <td>1655</td>\n",
       "    </tr>\n",
       "    <tr>\n",
       "      <td>3</td>\n",
       "      <td>2</td>\n",
       "      <td>1634</td>\n",
       "    </tr>\n",
       "    <tr>\n",
       "      <td>4</td>\n",
       "      <td>26</td>\n",
       "      <td>1597</td>\n",
       "    </tr>\n",
       "  </tbody>\n",
       "</table>\n",
       "</div>"
      ],
      "text/plain": [
       "   book_id  counts\n",
       "0        1    1764\n",
       "1        4    1747\n",
       "2        5    1655\n",
       "3        2    1634\n",
       "4       26    1597"
      ]
     },
     "execution_count": 25,
     "metadata": {},
     "output_type": "execute_result"
    }
   ],
   "source": [
    "nb_voters_book = ratings_data['book_id'].value_counts()\n",
    "nb_voters_df = pd.DataFrame(data={'book_id': nb_voters_book.index.tolist(), 'counts': nb_voters_book.values.tolist()})\n",
    "nb_voters_df.head()"
   ]
  },
  {
   "cell_type": "code",
   "execution_count": 26,
   "metadata": {
    "colab": {
     "base_uri": "https://localhost:8080/",
     "height": 200
    },
    "id": "s423EDlpqz86",
    "outputId": "cfa380aa-d86b-4f32-8da2-d97f57703ac1"
   },
   "outputs": [
    {
     "data": {
      "text/html": [
       "<div>\n",
       "<style scoped>\n",
       "    .dataframe tbody tr th:only-of-type {\n",
       "        vertical-align: middle;\n",
       "    }\n",
       "\n",
       "    .dataframe tbody tr th {\n",
       "        vertical-align: top;\n",
       "    }\n",
       "\n",
       "    .dataframe thead th {\n",
       "        text-align: right;\n",
       "    }\n",
       "</style>\n",
       "<table border=\"1\" class=\"dataframe\">\n",
       "  <thead>\n",
       "    <tr style=\"text-align: right;\">\n",
       "      <th></th>\n",
       "      <th>book_id</th>\n",
       "      <th>mean_rating</th>\n",
       "    </tr>\n",
       "  </thead>\n",
       "  <tbody>\n",
       "    <tr>\n",
       "      <td>0</td>\n",
       "      <td>1</td>\n",
       "      <td>4.238662</td>\n",
       "    </tr>\n",
       "    <tr>\n",
       "      <td>1</td>\n",
       "      <td>2</td>\n",
       "      <td>4.058140</td>\n",
       "    </tr>\n",
       "    <tr>\n",
       "      <td>2</td>\n",
       "      <td>3</td>\n",
       "      <td>3.376528</td>\n",
       "    </tr>\n",
       "    <tr>\n",
       "      <td>3</td>\n",
       "      <td>4</td>\n",
       "      <td>4.364625</td>\n",
       "    </tr>\n",
       "    <tr>\n",
       "      <td>4</td>\n",
       "      <td>5</td>\n",
       "      <td>3.748036</td>\n",
       "    </tr>\n",
       "  </tbody>\n",
       "</table>\n",
       "</div>"
      ],
      "text/plain": [
       "   book_id  mean_rating\n",
       "0        1     4.238662\n",
       "1        2     4.058140\n",
       "2        3     3.376528\n",
       "3        4     4.364625\n",
       "4        5     3.748036"
      ]
     },
     "execution_count": 26,
     "metadata": {},
     "output_type": "execute_result"
    }
   ],
   "source": [
    "rating_mean = ratings_data.groupby(['book_id'])['rating'].mean()\n",
    "rating_mean_df = pd.DataFrame(data={'book_id': rating_mean.index.tolist(), 'mean_rating': rating_mean.values.tolist()})\n",
    "rating_mean_df.head()"
   ]
  },
  {
   "cell_type": "code",
   "execution_count": 27,
   "metadata": {
    "colab": {
     "base_uri": "https://localhost:8080/"
    },
    "id": "XaV0k5KdnIXx",
    "outputId": "283c66e5-57f1-44a1-b05d-7d5cf199c333"
   },
   "outputs": [
    {
     "name": "stdout",
     "output_type": "stream",
     "text": [
      "202.0\n"
     ]
    }
   ],
   "source": [
    "# Fix the number of minimum readers to get into the list - m\n",
    "m = nb_voters_book.quantile(0.90)\n",
    "print(m)"
   ]
  },
  {
   "cell_type": "code",
   "execution_count": 28,
   "metadata": {
    "colab": {
     "base_uri": "https://localhost:8080/"
    },
    "id": "04E06bEFnDKA",
    "outputId": "f8560abe-86b2-4acf-a80f-154d0632a95e"
   },
   "outputs": [
    {
     "name": "stdout",
     "output_type": "stream",
     "text": [
      "3.779077570255898\n"
     ]
    }
   ],
   "source": [
    "# Rating mean (all of the books) - C.\n",
    "rating_all_mean = ratings_data['rating'].mean()\n",
    "print(rating_all_mean)"
   ]
  },
  {
   "cell_type": "code",
   "execution_count": 29,
   "metadata": {
    "colab": {
     "base_uri": "https://localhost:8080/",
     "height": 200
    },
    "id": "zrv8xAgws1sH",
    "outputId": "57b79f1b-adb3-4880-ad48-0ff5eeec08ee"
   },
   "outputs": [
    {
     "data": {
      "text/html": [
       "<div>\n",
       "<style scoped>\n",
       "    .dataframe tbody tr th:only-of-type {\n",
       "        vertical-align: middle;\n",
       "    }\n",
       "\n",
       "    .dataframe tbody tr th {\n",
       "        vertical-align: top;\n",
       "    }\n",
       "\n",
       "    .dataframe thead th {\n",
       "        text-align: right;\n",
       "    }\n",
       "</style>\n",
       "<table border=\"1\" class=\"dataframe\">\n",
       "  <thead>\n",
       "    <tr style=\"text-align: right;\">\n",
       "      <th></th>\n",
       "      <th>book_id</th>\n",
       "      <th>title</th>\n",
       "      <th>counts</th>\n",
       "      <th>mean_rating</th>\n",
       "    </tr>\n",
       "  </thead>\n",
       "  <tbody>\n",
       "    <tr>\n",
       "      <td>0</td>\n",
       "      <td>1</td>\n",
       "      <td>The Hunger Games (The Hunger Games, #1)</td>\n",
       "      <td>1764</td>\n",
       "      <td>4.238662</td>\n",
       "    </tr>\n",
       "    <tr>\n",
       "      <td>1</td>\n",
       "      <td>4</td>\n",
       "      <td>To Kill a Mockingbird</td>\n",
       "      <td>1747</td>\n",
       "      <td>4.364625</td>\n",
       "    </tr>\n",
       "    <tr>\n",
       "      <td>2</td>\n",
       "      <td>5</td>\n",
       "      <td>The Great Gatsby</td>\n",
       "      <td>1655</td>\n",
       "      <td>3.748036</td>\n",
       "    </tr>\n",
       "    <tr>\n",
       "      <td>3</td>\n",
       "      <td>8</td>\n",
       "      <td>The Catcher in the Rye</td>\n",
       "      <td>1535</td>\n",
       "      <td>3.768730</td>\n",
       "    </tr>\n",
       "    <tr>\n",
       "      <td>4</td>\n",
       "      <td>17</td>\n",
       "      <td>Catching Fire (The Hunger Games, #2)</td>\n",
       "      <td>1494</td>\n",
       "      <td>4.048193</td>\n",
       "    </tr>\n",
       "  </tbody>\n",
       "</table>\n",
       "</div>"
      ],
      "text/plain": [
       "   book_id                                    title  counts  mean_rating\n",
       "0        1  The Hunger Games (The Hunger Games, #1)    1764     4.238662\n",
       "1        4                    To Kill a Mockingbird    1747     4.364625\n",
       "2        5                         The Great Gatsby    1655     3.748036\n",
       "3        8                   The Catcher in the Rye    1535     3.768730\n",
       "4       17     Catching Fire (The Hunger Games, #2)    1494     4.048193"
      ]
     },
     "execution_count": 29,
     "metadata": {},
     "output_type": "execute_result"
    }
   ],
   "source": [
    "title_voters_df = pd.merge(title_df, nb_voters_df, on=['book_id'], how='inner')\n",
    "df = pd.merge(title_voters_df, rating_mean_df, on=['book_id'], how='inner')\n",
    "df.head()"
   ]
  },
  {
   "cell_type": "code",
   "execution_count": 11,
   "metadata": {
    "colab": {
     "base_uri": "https://localhost:8080/",
     "height": 200
    },
    "id": "Gf7q0MnOs4hR",
    "outputId": "8dd8608f-4d3e-4932-a1d7-754c80cff75f"
   },
   "outputs": [
    {
     "data": {
      "text/html": [
       "<div>\n",
       "<style scoped>\n",
       "    .dataframe tbody tr th:only-of-type {\n",
       "        vertical-align: middle;\n",
       "    }\n",
       "\n",
       "    .dataframe tbody tr th {\n",
       "        vertical-align: top;\n",
       "    }\n",
       "\n",
       "    .dataframe thead th {\n",
       "        text-align: right;\n",
       "    }\n",
       "</style>\n",
       "<table border=\"1\" class=\"dataframe\">\n",
       "  <thead>\n",
       "    <tr style=\"text-align: right;\">\n",
       "      <th></th>\n",
       "      <th>book_id</th>\n",
       "      <th>title</th>\n",
       "      <th>counts</th>\n",
       "      <th>mean_rating</th>\n",
       "      <th>weighted_average_rating</th>\n",
       "    </tr>\n",
       "  </thead>\n",
       "  <tbody>\n",
       "    <tr>\n",
       "      <td>0</td>\n",
       "      <td>1</td>\n",
       "      <td>The Hunger Games (The Hunger Games, #1)</td>\n",
       "      <td>1764</td>\n",
       "      <td>4.238662</td>\n",
       "      <td>4.191441</td>\n",
       "    </tr>\n",
       "    <tr>\n",
       "      <td>1</td>\n",
       "      <td>2</td>\n",
       "      <td>Harry Potter and the Sorcerer's Stone (Harry P...</td>\n",
       "      <td>1634</td>\n",
       "      <td>4.058140</td>\n",
       "      <td>4.027437</td>\n",
       "    </tr>\n",
       "    <tr>\n",
       "      <td>2</td>\n",
       "      <td>3</td>\n",
       "      <td>Twilight (Twilight, #1)</td>\n",
       "      <td>1227</td>\n",
       "      <td>3.376528</td>\n",
       "      <td>3.433432</td>\n",
       "    </tr>\n",
       "    <tr>\n",
       "      <td>3</td>\n",
       "      <td>4</td>\n",
       "      <td>To Kill a Mockingbird</td>\n",
       "      <td>1747</td>\n",
       "      <td>4.364625</td>\n",
       "      <td>4.303937</td>\n",
       "    </tr>\n",
       "    <tr>\n",
       "      <td>4</td>\n",
       "      <td>5</td>\n",
       "      <td>The Great Gatsby</td>\n",
       "      <td>1655</td>\n",
       "      <td>3.748036</td>\n",
       "      <td>3.751413</td>\n",
       "    </tr>\n",
       "  </tbody>\n",
       "</table>\n",
       "</div>"
      ],
      "text/plain": [
       "   book_id                                              title  counts  \\\n",
       "0        1            The Hunger Games (The Hunger Games, #1)    1764   \n",
       "1        2  Harry Potter and the Sorcerer's Stone (Harry P...    1634   \n",
       "2        3                            Twilight (Twilight, #1)    1227   \n",
       "3        4                              To Kill a Mockingbird    1747   \n",
       "4        5                                   The Great Gatsby    1655   \n",
       "\n",
       "   mean_rating  weighted_average_rating  \n",
       "0     4.238662                 4.191441  \n",
       "1     4.058140                 4.027437  \n",
       "2     3.376528                 3.433432  \n",
       "3     4.364625                 4.303937  \n",
       "4     3.748036                 3.751413  "
      ]
     },
     "execution_count": 11,
     "metadata": {},
     "output_type": "execute_result"
    }
   ],
   "source": [
    "df['weighted_average_rating'] = weighted_average_rating(df['counts'],m,df['mean_rating'], rating_all_mean)\n",
    "df.head()"
   ]
  },
  {
   "cell_type": "code",
   "execution_count": 12,
   "metadata": {},
   "outputs": [
    {
     "data": {
      "text/html": [
       "<div>\n",
       "<style scoped>\n",
       "    .dataframe tbody tr th:only-of-type {\n",
       "        vertical-align: middle;\n",
       "    }\n",
       "\n",
       "    .dataframe tbody tr th {\n",
       "        vertical-align: top;\n",
       "    }\n",
       "\n",
       "    .dataframe thead th {\n",
       "        text-align: right;\n",
       "    }\n",
       "</style>\n",
       "<table border=\"1\" class=\"dataframe\">\n",
       "  <thead>\n",
       "    <tr style=\"text-align: right;\">\n",
       "      <th></th>\n",
       "      <th>book_id</th>\n",
       "      <th>title</th>\n",
       "      <th>counts</th>\n",
       "      <th>mean_rating</th>\n",
       "      <th>weighted_average_rating</th>\n",
       "    </tr>\n",
       "  </thead>\n",
       "  <tbody>\n",
       "    <tr>\n",
       "      <td>24</td>\n",
       "      <td>25</td>\n",
       "      <td>Harry Potter and the Deathly Hallows (Harry Po...</td>\n",
       "      <td>1444</td>\n",
       "      <td>4.421745</td>\n",
       "      <td>4.342876</td>\n",
       "    </tr>\n",
       "    <tr>\n",
       "      <td>3</td>\n",
       "      <td>4</td>\n",
       "      <td>To Kill a Mockingbird</td>\n",
       "      <td>1747</td>\n",
       "      <td>4.364625</td>\n",
       "      <td>4.303937</td>\n",
       "    </tr>\n",
       "    <tr>\n",
       "      <td>101</td>\n",
       "      <td>102</td>\n",
       "      <td>Where the Wild Things Are</td>\n",
       "      <td>612</td>\n",
       "      <td>4.449346</td>\n",
       "      <td>4.283014</td>\n",
       "    </tr>\n",
       "    <tr>\n",
       "      <td>84</td>\n",
       "      <td>85</td>\n",
       "      <td>The Giving Tree</td>\n",
       "      <td>815</td>\n",
       "      <td>4.364417</td>\n",
       "      <td>4.248155</td>\n",
       "    </tr>\n",
       "    <tr>\n",
       "      <td>49</td>\n",
       "      <td>50</td>\n",
       "      <td>Where the Sidewalk Ends</td>\n",
       "      <td>976</td>\n",
       "      <td>4.343238</td>\n",
       "      <td>4.246497</td>\n",
       "    </tr>\n",
       "    <tr>\n",
       "      <td>30</td>\n",
       "      <td>31</td>\n",
       "      <td>The Help</td>\n",
       "      <td>1265</td>\n",
       "      <td>4.318577</td>\n",
       "      <td>4.244290</td>\n",
       "    </tr>\n",
       "    <tr>\n",
       "      <td>143</td>\n",
       "      <td>144</td>\n",
       "      <td>Unbroken: A World War II Story of Survival, Re...</td>\n",
       "      <td>557</td>\n",
       "      <td>4.396768</td>\n",
       "      <td>4.232376</td>\n",
       "    </tr>\n",
       "    <tr>\n",
       "      <td>26</td>\n",
       "      <td>27</td>\n",
       "      <td>Harry Potter and the Half-Blood Prince (Harry ...</td>\n",
       "      <td>1394</td>\n",
       "      <td>4.282640</td>\n",
       "      <td>4.218906</td>\n",
       "    </tr>\n",
       "    <tr>\n",
       "      <td>132</td>\n",
       "      <td>133</td>\n",
       "      <td>Anne of Green Gables (Anne of Green Gables, #1)</td>\n",
       "      <td>533</td>\n",
       "      <td>4.348968</td>\n",
       "      <td>4.192345</td>\n",
       "    </tr>\n",
       "    <tr>\n",
       "      <td>0</td>\n",
       "      <td>1</td>\n",
       "      <td>The Hunger Games (The Hunger Games, #1)</td>\n",
       "      <td>1764</td>\n",
       "      <td>4.238662</td>\n",
       "      <td>4.191441</td>\n",
       "    </tr>\n",
       "  </tbody>\n",
       "</table>\n",
       "</div>"
      ],
      "text/plain": [
       "     book_id                                              title  counts  \\\n",
       "24        25  Harry Potter and the Deathly Hallows (Harry Po...    1444   \n",
       "3          4                              To Kill a Mockingbird    1747   \n",
       "101      102                          Where the Wild Things Are     612   \n",
       "84        85                                    The Giving Tree     815   \n",
       "49        50                            Where the Sidewalk Ends     976   \n",
       "30        31                                           The Help    1265   \n",
       "143      144  Unbroken: A World War II Story of Survival, Re...     557   \n",
       "26        27  Harry Potter and the Half-Blood Prince (Harry ...    1394   \n",
       "132      133    Anne of Green Gables (Anne of Green Gables, #1)     533   \n",
       "0          1            The Hunger Games (The Hunger Games, #1)    1764   \n",
       "\n",
       "     mean_rating  weighted_average_rating  \n",
       "24      4.421745                 4.342876  \n",
       "3       4.364625                 4.303937  \n",
       "101     4.449346                 4.283014  \n",
       "84      4.364417                 4.248155  \n",
       "49      4.343238                 4.246497  \n",
       "30      4.318577                 4.244290  \n",
       "143     4.396768                 4.232376  \n",
       "26      4.282640                 4.218906  \n",
       "132     4.348968                 4.192345  \n",
       "0       4.238662                 4.191441  "
      ]
     },
     "execution_count": 12,
     "metadata": {},
     "output_type": "execute_result"
    }
   ],
   "source": [
    "get_simply_recommendation(df, df['counts'], 10, ['weighted_average_rating'], m)"
   ]
  },
  {
   "cell_type": "code",
   "execution_count": 13,
   "metadata": {},
   "outputs": [],
   "source": [
    "def get_simply_place_recommendation(place, k):\n",
    "    pass"
   ]
  }
 ],
 "metadata": {
  "colab": {
   "collapsed_sections": [],
   "name": "Untitled0.ipynb",
   "provenance": []
  },
  "kernelspec": {
   "display_name": "Python 3",
   "language": "python",
   "name": "python3"
  },
  "language_info": {
   "codemirror_mode": {
    "name": "ipython",
    "version": 3
   },
   "file_extension": ".py",
   "mimetype": "text/x-python",
   "name": "python",
   "nbconvert_exporter": "python",
   "pygments_lexer": "ipython3",
   "version": "3.7.4"
  }
 },
 "nbformat": 4,
 "nbformat_minor": 1
}
